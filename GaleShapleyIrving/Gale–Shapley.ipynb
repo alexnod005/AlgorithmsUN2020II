{
  "nbformat": 4,
  "nbformat_minor": 0,
  "metadata": {
    "colab": {
      "name": "Gale–Shapley.ipynb",
      "provenance": [],
      "collapsed_sections": []
    },
    "kernelspec": {
      "name": "python3",
      "display_name": "Python 3"
    }
  },
  "cells": [
    {
      "cell_type": "markdown",
      "metadata": {
        "id": "qeyyplbn71_t"
      },
      "source": [
        "#<div align=\"center\">LAB 9 Gale-Shapley and Irving Algorithms</div>\n",
        "David Alexander Núñez Quintero\n",
        "<br>\n",
        "<br>\n",
        "<hr>\n",
        "\n",
        "### 1) Find the best and worst cases for the Gale-Shapley and Irving ( An Efficient Algorithm for the “Stable Roommates” Problem) Algorithms and run in Colab these algorithms for those cases for n=4 and 40."
      ]
    },
    {
      "cell_type": "code",
      "metadata": {
        "id": "nAxsIm17XzCV"
      },
      "source": [
        "import math\n",
        "import pandas as pd\n",
        "import pandas as pd\n",
        "import numpy as np\n",
        "from collections import Counter\n",
        "from copy import copy\n",
        "import random\n",
        "import matplotlib.pyplot as plt\n"
      ],
      "execution_count": null,
      "outputs": []
    },
    {
      "cell_type": "code",
      "metadata": {
        "id": "DsUgGjb5Ccqt"
      },
      "source": [
        "def Gale_Shapley(pr_man,pr_women,n):\n",
        "\n",
        "    man_list = list(range(1,n+1))\n",
        "    women_list = list(range(n+1,n*2+1))\n",
        "    col=list(range(n+1,n*2+1))\n",
        "\n",
        "    ind=list(range(1,n+1))\n",
        "\n",
        "    women_df = pd.DataFrame({col[i]:pr_women[i] for i in range(n)},index=ind)\n",
        " \n",
        "    man_df = pd.DataFrame(pr_man,columns=col,index=ind)\n",
        "\n",
        "    # dict to control which women each man can make proposals\n",
        "    women_available = {man:women_list for man in man_list}\n",
        "    # waiting list of men that were able to create pair on each iteration\n",
        "    waiting_list = []\n",
        "    # dict to store created pairs\n",
        "    proposals = {}\n",
        "    # variable to count number of iterations\n",
        "    count = 0\n",
        "    while len(waiting_list)<len(man_list):\n",
        "        # man makes proposals\n",
        "        for man in man_list:\n",
        "    \n",
        "            if man not in waiting_list:\n",
        "                # each man make proposal to the top women from it's list\n",
        "                women = women_available[man]\n",
        "                best_choice = man_df.loc[man][man_df.loc[man].index.isin(women)].idxmin()\n",
        "                \n",
        "                proposals[(man, best_choice)]=(man_df.loc[man][best_choice],\n",
        "                                                    women_df.loc[man][best_choice])\n",
        "        # if women have more than one proposals \n",
        "        # she will choose the best option\n",
        "        overlays = Counter([key[1] for key in proposals.keys()])\n",
        "        \n",
        "        # cycle to choose the best options\n",
        "        for women in overlays.keys():\n",
        "            if overlays[women]>1:\n",
        "                # pairs to drop from proposals\n",
        "                pairs_to_drop = sorted({pair: proposals[pair] for pair in proposals.keys() if women in pair}.items(), key=lambda x: x[1][1])[1:]\n",
        "                # if man was rejected by woman\n",
        "                # there is no pint for him to make proposal \n",
        "                # second time to the same woman\n",
        "                for p_to_drop in pairs_to_drop:\n",
        "                    del proposals[p_to_drop[0]]\n",
        "                    _women = copy(women_available[p_to_drop[0][0]])\n",
        "                    _women.remove(p_to_drop[0][1])\n",
        "                    women_available[p_to_drop[0][0]] = _women\n",
        "        # man who successfully created pairs must be added to the waiting list \n",
        "        waiting_list = [man[0] for man in proposals.keys()]\n",
        "        # update counter\n",
        "        count+=1\n",
        "\n",
        "\n",
        "    print(proposals)\n",
        "    print(\"days=\",count)"
      ],
      "execution_count": null,
      "outputs": []
    },
    {
      "cell_type": "markdown",
      "metadata": {
        "id": "lCX-Q2i4354B"
      },
      "source": [
        "##Worst case\n",
        "### - n=4:  10 days\n"
      ]
    },
    {
      "cell_type": "code",
      "metadata": {
        "id": "C1cg2aEEf5UU",
        "colab": {
          "base_uri": "https://localhost:8080/"
        },
        "outputId": "c2f74135-b409-4758-9a9a-282e8b01826e"
      },
      "source": [
        "mans=[[1,2,3,4],[3,1,2,4],[2,3,1,4],[1,2,3,4]]\n",
        "womans=[[4,1,2,3],[3,4,1,2],[2,3,4,1],[1,2,3,4]]\n",
        "Gale_Shapley(mans,womans,4)"
      ],
      "execution_count": null,
      "outputs": [
        {
          "output_type": "stream",
          "text": [
            "{(2, 5): (3, 1), (3, 6): (3, 1), (4, 7): (3, 1), (1, 8): (4, 1)}\n",
            "days= 10\n"
          ],
          "name": "stdout"
        }
      ]
    },
    {
      "cell_type": "markdown",
      "metadata": {
        "id": "hRmrbe9M4ZKd"
      },
      "source": [
        "##Best case\n",
        "### - n=4:  1 days\n"
      ]
    },
    {
      "cell_type": "code",
      "metadata": {
        "id": "sjfvWrKG4Xrn",
        "colab": {
          "base_uri": "https://localhost:8080/"
        },
        "outputId": "1ce756be-ebe7-4ad8-e546-d8c020211c33"
      },
      "source": [
        "mans=[[1,2,3,4],[3,1,2,4],[2,3,1,4],[4,2,3,1]]\n",
        "womans=[[1,2,3,4],[3,1,2,4],[2,3,1,4],[4,2,3,1]]\n",
        "Gale_Shapley(mans,womans,4)"
      ],
      "execution_count": null,
      "outputs": [
        {
          "output_type": "stream",
          "text": [
            "{(1, 5): (1, 1), (2, 6): (1, 1), (3, 7): (1, 1), (4, 8): (1, 1)}\n",
            "days= 1\n"
          ],
          "name": "stdout"
        }
      ]
    },
    {
      "cell_type": "markdown",
      "metadata": {
        "id": "-Lor0qO343lY"
      },
      "source": [
        "##Worst case\n",
        "### - n=40:  1522 days\n"
      ]
    },
    {
      "cell_type": "code",
      "metadata": {
        "id": "9XN1i6py4nY_",
        "colab": {
          "base_uri": "https://localhost:8080/"
        },
        "outputId": "80ef1c53-fc14-4951-f74b-59188a1c5ce0"
      },
      "source": [
        "mon=[]\n",
        "base=list(range(1,41))\n",
        "mon.append(base)\n",
        "for i in range(39):\n",
        "    mon.append(base[38-i:39]+base[:38-i]+base[39:])\n",
        "print(mon)\n",
        "base2=[40]\n",
        "base2+=list(range(1,40))\n",
        "mon2=[]\n",
        "mon2.append(base2)\n",
        "for i in range(39):\n",
        "    mon2.append(base2[39-i:]+base2[:39-i])\n",
        "mans=mon\n",
        "womans=mon2\n",
        "Gale_Shapley(mans,womans,40)"
      ],
      "execution_count": null,
      "outputs": [
        {
          "output_type": "stream",
          "text": [
            "[[1, 2, 3, 4, 5, 6, 7, 8, 9, 10, 11, 12, 13, 14, 15, 16, 17, 18, 19, 20, 21, 22, 23, 24, 25, 26, 27, 28, 29, 30, 31, 32, 33, 34, 35, 36, 37, 38, 39, 40], [39, 1, 2, 3, 4, 5, 6, 7, 8, 9, 10, 11, 12, 13, 14, 15, 16, 17, 18, 19, 20, 21, 22, 23, 24, 25, 26, 27, 28, 29, 30, 31, 32, 33, 34, 35, 36, 37, 38, 40], [38, 39, 1, 2, 3, 4, 5, 6, 7, 8, 9, 10, 11, 12, 13, 14, 15, 16, 17, 18, 19, 20, 21, 22, 23, 24, 25, 26, 27, 28, 29, 30, 31, 32, 33, 34, 35, 36, 37, 40], [37, 38, 39, 1, 2, 3, 4, 5, 6, 7, 8, 9, 10, 11, 12, 13, 14, 15, 16, 17, 18, 19, 20, 21, 22, 23, 24, 25, 26, 27, 28, 29, 30, 31, 32, 33, 34, 35, 36, 40], [36, 37, 38, 39, 1, 2, 3, 4, 5, 6, 7, 8, 9, 10, 11, 12, 13, 14, 15, 16, 17, 18, 19, 20, 21, 22, 23, 24, 25, 26, 27, 28, 29, 30, 31, 32, 33, 34, 35, 40], [35, 36, 37, 38, 39, 1, 2, 3, 4, 5, 6, 7, 8, 9, 10, 11, 12, 13, 14, 15, 16, 17, 18, 19, 20, 21, 22, 23, 24, 25, 26, 27, 28, 29, 30, 31, 32, 33, 34, 40], [34, 35, 36, 37, 38, 39, 1, 2, 3, 4, 5, 6, 7, 8, 9, 10, 11, 12, 13, 14, 15, 16, 17, 18, 19, 20, 21, 22, 23, 24, 25, 26, 27, 28, 29, 30, 31, 32, 33, 40], [33, 34, 35, 36, 37, 38, 39, 1, 2, 3, 4, 5, 6, 7, 8, 9, 10, 11, 12, 13, 14, 15, 16, 17, 18, 19, 20, 21, 22, 23, 24, 25, 26, 27, 28, 29, 30, 31, 32, 40], [32, 33, 34, 35, 36, 37, 38, 39, 1, 2, 3, 4, 5, 6, 7, 8, 9, 10, 11, 12, 13, 14, 15, 16, 17, 18, 19, 20, 21, 22, 23, 24, 25, 26, 27, 28, 29, 30, 31, 40], [31, 32, 33, 34, 35, 36, 37, 38, 39, 1, 2, 3, 4, 5, 6, 7, 8, 9, 10, 11, 12, 13, 14, 15, 16, 17, 18, 19, 20, 21, 22, 23, 24, 25, 26, 27, 28, 29, 30, 40], [30, 31, 32, 33, 34, 35, 36, 37, 38, 39, 1, 2, 3, 4, 5, 6, 7, 8, 9, 10, 11, 12, 13, 14, 15, 16, 17, 18, 19, 20, 21, 22, 23, 24, 25, 26, 27, 28, 29, 40], [29, 30, 31, 32, 33, 34, 35, 36, 37, 38, 39, 1, 2, 3, 4, 5, 6, 7, 8, 9, 10, 11, 12, 13, 14, 15, 16, 17, 18, 19, 20, 21, 22, 23, 24, 25, 26, 27, 28, 40], [28, 29, 30, 31, 32, 33, 34, 35, 36, 37, 38, 39, 1, 2, 3, 4, 5, 6, 7, 8, 9, 10, 11, 12, 13, 14, 15, 16, 17, 18, 19, 20, 21, 22, 23, 24, 25, 26, 27, 40], [27, 28, 29, 30, 31, 32, 33, 34, 35, 36, 37, 38, 39, 1, 2, 3, 4, 5, 6, 7, 8, 9, 10, 11, 12, 13, 14, 15, 16, 17, 18, 19, 20, 21, 22, 23, 24, 25, 26, 40], [26, 27, 28, 29, 30, 31, 32, 33, 34, 35, 36, 37, 38, 39, 1, 2, 3, 4, 5, 6, 7, 8, 9, 10, 11, 12, 13, 14, 15, 16, 17, 18, 19, 20, 21, 22, 23, 24, 25, 40], [25, 26, 27, 28, 29, 30, 31, 32, 33, 34, 35, 36, 37, 38, 39, 1, 2, 3, 4, 5, 6, 7, 8, 9, 10, 11, 12, 13, 14, 15, 16, 17, 18, 19, 20, 21, 22, 23, 24, 40], [24, 25, 26, 27, 28, 29, 30, 31, 32, 33, 34, 35, 36, 37, 38, 39, 1, 2, 3, 4, 5, 6, 7, 8, 9, 10, 11, 12, 13, 14, 15, 16, 17, 18, 19, 20, 21, 22, 23, 40], [23, 24, 25, 26, 27, 28, 29, 30, 31, 32, 33, 34, 35, 36, 37, 38, 39, 1, 2, 3, 4, 5, 6, 7, 8, 9, 10, 11, 12, 13, 14, 15, 16, 17, 18, 19, 20, 21, 22, 40], [22, 23, 24, 25, 26, 27, 28, 29, 30, 31, 32, 33, 34, 35, 36, 37, 38, 39, 1, 2, 3, 4, 5, 6, 7, 8, 9, 10, 11, 12, 13, 14, 15, 16, 17, 18, 19, 20, 21, 40], [21, 22, 23, 24, 25, 26, 27, 28, 29, 30, 31, 32, 33, 34, 35, 36, 37, 38, 39, 1, 2, 3, 4, 5, 6, 7, 8, 9, 10, 11, 12, 13, 14, 15, 16, 17, 18, 19, 20, 40], [20, 21, 22, 23, 24, 25, 26, 27, 28, 29, 30, 31, 32, 33, 34, 35, 36, 37, 38, 39, 1, 2, 3, 4, 5, 6, 7, 8, 9, 10, 11, 12, 13, 14, 15, 16, 17, 18, 19, 40], [19, 20, 21, 22, 23, 24, 25, 26, 27, 28, 29, 30, 31, 32, 33, 34, 35, 36, 37, 38, 39, 1, 2, 3, 4, 5, 6, 7, 8, 9, 10, 11, 12, 13, 14, 15, 16, 17, 18, 40], [18, 19, 20, 21, 22, 23, 24, 25, 26, 27, 28, 29, 30, 31, 32, 33, 34, 35, 36, 37, 38, 39, 1, 2, 3, 4, 5, 6, 7, 8, 9, 10, 11, 12, 13, 14, 15, 16, 17, 40], [17, 18, 19, 20, 21, 22, 23, 24, 25, 26, 27, 28, 29, 30, 31, 32, 33, 34, 35, 36, 37, 38, 39, 1, 2, 3, 4, 5, 6, 7, 8, 9, 10, 11, 12, 13, 14, 15, 16, 40], [16, 17, 18, 19, 20, 21, 22, 23, 24, 25, 26, 27, 28, 29, 30, 31, 32, 33, 34, 35, 36, 37, 38, 39, 1, 2, 3, 4, 5, 6, 7, 8, 9, 10, 11, 12, 13, 14, 15, 40], [15, 16, 17, 18, 19, 20, 21, 22, 23, 24, 25, 26, 27, 28, 29, 30, 31, 32, 33, 34, 35, 36, 37, 38, 39, 1, 2, 3, 4, 5, 6, 7, 8, 9, 10, 11, 12, 13, 14, 40], [14, 15, 16, 17, 18, 19, 20, 21, 22, 23, 24, 25, 26, 27, 28, 29, 30, 31, 32, 33, 34, 35, 36, 37, 38, 39, 1, 2, 3, 4, 5, 6, 7, 8, 9, 10, 11, 12, 13, 40], [13, 14, 15, 16, 17, 18, 19, 20, 21, 22, 23, 24, 25, 26, 27, 28, 29, 30, 31, 32, 33, 34, 35, 36, 37, 38, 39, 1, 2, 3, 4, 5, 6, 7, 8, 9, 10, 11, 12, 40], [12, 13, 14, 15, 16, 17, 18, 19, 20, 21, 22, 23, 24, 25, 26, 27, 28, 29, 30, 31, 32, 33, 34, 35, 36, 37, 38, 39, 1, 2, 3, 4, 5, 6, 7, 8, 9, 10, 11, 40], [11, 12, 13, 14, 15, 16, 17, 18, 19, 20, 21, 22, 23, 24, 25, 26, 27, 28, 29, 30, 31, 32, 33, 34, 35, 36, 37, 38, 39, 1, 2, 3, 4, 5, 6, 7, 8, 9, 10, 40], [10, 11, 12, 13, 14, 15, 16, 17, 18, 19, 20, 21, 22, 23, 24, 25, 26, 27, 28, 29, 30, 31, 32, 33, 34, 35, 36, 37, 38, 39, 1, 2, 3, 4, 5, 6, 7, 8, 9, 40], [9, 10, 11, 12, 13, 14, 15, 16, 17, 18, 19, 20, 21, 22, 23, 24, 25, 26, 27, 28, 29, 30, 31, 32, 33, 34, 35, 36, 37, 38, 39, 1, 2, 3, 4, 5, 6, 7, 8, 40], [8, 9, 10, 11, 12, 13, 14, 15, 16, 17, 18, 19, 20, 21, 22, 23, 24, 25, 26, 27, 28, 29, 30, 31, 32, 33, 34, 35, 36, 37, 38, 39, 1, 2, 3, 4, 5, 6, 7, 40], [7, 8, 9, 10, 11, 12, 13, 14, 15, 16, 17, 18, 19, 20, 21, 22, 23, 24, 25, 26, 27, 28, 29, 30, 31, 32, 33, 34, 35, 36, 37, 38, 39, 1, 2, 3, 4, 5, 6, 40], [6, 7, 8, 9, 10, 11, 12, 13, 14, 15, 16, 17, 18, 19, 20, 21, 22, 23, 24, 25, 26, 27, 28, 29, 30, 31, 32, 33, 34, 35, 36, 37, 38, 39, 1, 2, 3, 4, 5, 40], [5, 6, 7, 8, 9, 10, 11, 12, 13, 14, 15, 16, 17, 18, 19, 20, 21, 22, 23, 24, 25, 26, 27, 28, 29, 30, 31, 32, 33, 34, 35, 36, 37, 38, 39, 1, 2, 3, 4, 40], [4, 5, 6, 7, 8, 9, 10, 11, 12, 13, 14, 15, 16, 17, 18, 19, 20, 21, 22, 23, 24, 25, 26, 27, 28, 29, 30, 31, 32, 33, 34, 35, 36, 37, 38, 39, 1, 2, 3, 40], [3, 4, 5, 6, 7, 8, 9, 10, 11, 12, 13, 14, 15, 16, 17, 18, 19, 20, 21, 22, 23, 24, 25, 26, 27, 28, 29, 30, 31, 32, 33, 34, 35, 36, 37, 38, 39, 1, 2, 40], [2, 3, 4, 5, 6, 7, 8, 9, 10, 11, 12, 13, 14, 15, 16, 17, 18, 19, 20, 21, 22, 23, 24, 25, 26, 27, 28, 29, 30, 31, 32, 33, 34, 35, 36, 37, 38, 39, 1, 40], [1, 2, 3, 4, 5, 6, 7, 8, 9, 10, 11, 12, 13, 14, 15, 16, 17, 18, 19, 20, 21, 22, 23, 24, 25, 26, 27, 28, 29, 30, 31, 32, 33, 34, 35, 36, 37, 38, 39, 40]]\n",
            "{(2, 41): (39, 1), (3, 42): (39, 1), (4, 43): (39, 1), (5, 44): (39, 1), (6, 45): (39, 1), (7, 46): (39, 1), (8, 47): (39, 1), (9, 48): (39, 1), (10, 49): (39, 1), (11, 50): (39, 1), (12, 51): (39, 1), (13, 52): (39, 1), (14, 53): (39, 1), (15, 54): (39, 1), (16, 55): (39, 1), (17, 56): (39, 1), (18, 57): (39, 1), (19, 58): (39, 1), (20, 59): (39, 1), (21, 60): (39, 1), (22, 61): (39, 1), (23, 62): (39, 1), (24, 63): (39, 1), (25, 64): (39, 1), (26, 65): (39, 1), (27, 66): (39, 1), (28, 67): (39, 1), (29, 68): (39, 1), (30, 69): (39, 1), (31, 70): (39, 1), (32, 71): (39, 1), (33, 72): (39, 1), (34, 73): (39, 1), (35, 74): (39, 1), (36, 75): (39, 1), (37, 76): (39, 1), (38, 77): (39, 1), (39, 78): (39, 1), (40, 79): (39, 1), (1, 80): (40, 1)}\n",
            "days= 1522\n"
          ],
          "name": "stdout"
        }
      ]
    },
    {
      "cell_type": "markdown",
      "metadata": {
        "id": "pJkY7ZN-929J"
      },
      "source": [
        "##Best case\n",
        "### - n=40:  1 days"
      ]
    },
    {
      "cell_type": "code",
      "metadata": {
        "id": "ZmmlV2ws6Kh9",
        "colab": {
          "base_uri": "https://localhost:8080/"
        },
        "outputId": "3c611717-24f3-470f-92bc-7accd3eaaeeb"
      },
      "source": [
        "mon=[]\n",
        "base=list(range(1,41))\n",
        "mon.append(base)\n",
        "for i in range(39):\n",
        "    mon.append(base[39-i:]+base[:39-i])\n",
        "\n",
        "mans=mon\n",
        "womans=mon\n",
        "Gale_Shapley(mans,womans,40)"
      ],
      "execution_count": null,
      "outputs": [
        {
          "output_type": "stream",
          "text": [
            "[[1, 2, 3, 4, 5, 6, 7, 8, 9, 10, 11, 12, 13, 14, 15, 16, 17, 18, 19, 20, 21, 22, 23, 24, 25, 26, 27, 28, 29, 30, 31, 32, 33, 34, 35, 36, 37, 38, 39, 40], [39, 1, 2, 3, 4, 5, 6, 7, 8, 9, 10, 11, 12, 13, 14, 15, 16, 17, 18, 19, 20, 21, 22, 23, 24, 25, 26, 27, 28, 29, 30, 31, 32, 33, 34, 35, 36, 37, 38, 40], [38, 39, 1, 2, 3, 4, 5, 6, 7, 8, 9, 10, 11, 12, 13, 14, 15, 16, 17, 18, 19, 20, 21, 22, 23, 24, 25, 26, 27, 28, 29, 30, 31, 32, 33, 34, 35, 36, 37, 40], [37, 38, 39, 1, 2, 3, 4, 5, 6, 7, 8, 9, 10, 11, 12, 13, 14, 15, 16, 17, 18, 19, 20, 21, 22, 23, 24, 25, 26, 27, 28, 29, 30, 31, 32, 33, 34, 35, 36, 40], [36, 37, 38, 39, 1, 2, 3, 4, 5, 6, 7, 8, 9, 10, 11, 12, 13, 14, 15, 16, 17, 18, 19, 20, 21, 22, 23, 24, 25, 26, 27, 28, 29, 30, 31, 32, 33, 34, 35, 40], [35, 36, 37, 38, 39, 1, 2, 3, 4, 5, 6, 7, 8, 9, 10, 11, 12, 13, 14, 15, 16, 17, 18, 19, 20, 21, 22, 23, 24, 25, 26, 27, 28, 29, 30, 31, 32, 33, 34, 40], [34, 35, 36, 37, 38, 39, 1, 2, 3, 4, 5, 6, 7, 8, 9, 10, 11, 12, 13, 14, 15, 16, 17, 18, 19, 20, 21, 22, 23, 24, 25, 26, 27, 28, 29, 30, 31, 32, 33, 40], [33, 34, 35, 36, 37, 38, 39, 1, 2, 3, 4, 5, 6, 7, 8, 9, 10, 11, 12, 13, 14, 15, 16, 17, 18, 19, 20, 21, 22, 23, 24, 25, 26, 27, 28, 29, 30, 31, 32, 40], [32, 33, 34, 35, 36, 37, 38, 39, 1, 2, 3, 4, 5, 6, 7, 8, 9, 10, 11, 12, 13, 14, 15, 16, 17, 18, 19, 20, 21, 22, 23, 24, 25, 26, 27, 28, 29, 30, 31, 40], [31, 32, 33, 34, 35, 36, 37, 38, 39, 1, 2, 3, 4, 5, 6, 7, 8, 9, 10, 11, 12, 13, 14, 15, 16, 17, 18, 19, 20, 21, 22, 23, 24, 25, 26, 27, 28, 29, 30, 40], [30, 31, 32, 33, 34, 35, 36, 37, 38, 39, 1, 2, 3, 4, 5, 6, 7, 8, 9, 10, 11, 12, 13, 14, 15, 16, 17, 18, 19, 20, 21, 22, 23, 24, 25, 26, 27, 28, 29, 40], [29, 30, 31, 32, 33, 34, 35, 36, 37, 38, 39, 1, 2, 3, 4, 5, 6, 7, 8, 9, 10, 11, 12, 13, 14, 15, 16, 17, 18, 19, 20, 21, 22, 23, 24, 25, 26, 27, 28, 40], [28, 29, 30, 31, 32, 33, 34, 35, 36, 37, 38, 39, 1, 2, 3, 4, 5, 6, 7, 8, 9, 10, 11, 12, 13, 14, 15, 16, 17, 18, 19, 20, 21, 22, 23, 24, 25, 26, 27, 40], [27, 28, 29, 30, 31, 32, 33, 34, 35, 36, 37, 38, 39, 1, 2, 3, 4, 5, 6, 7, 8, 9, 10, 11, 12, 13, 14, 15, 16, 17, 18, 19, 20, 21, 22, 23, 24, 25, 26, 40], [26, 27, 28, 29, 30, 31, 32, 33, 34, 35, 36, 37, 38, 39, 1, 2, 3, 4, 5, 6, 7, 8, 9, 10, 11, 12, 13, 14, 15, 16, 17, 18, 19, 20, 21, 22, 23, 24, 25, 40], [25, 26, 27, 28, 29, 30, 31, 32, 33, 34, 35, 36, 37, 38, 39, 1, 2, 3, 4, 5, 6, 7, 8, 9, 10, 11, 12, 13, 14, 15, 16, 17, 18, 19, 20, 21, 22, 23, 24, 40], [24, 25, 26, 27, 28, 29, 30, 31, 32, 33, 34, 35, 36, 37, 38, 39, 1, 2, 3, 4, 5, 6, 7, 8, 9, 10, 11, 12, 13, 14, 15, 16, 17, 18, 19, 20, 21, 22, 23, 40], [23, 24, 25, 26, 27, 28, 29, 30, 31, 32, 33, 34, 35, 36, 37, 38, 39, 1, 2, 3, 4, 5, 6, 7, 8, 9, 10, 11, 12, 13, 14, 15, 16, 17, 18, 19, 20, 21, 22, 40], [22, 23, 24, 25, 26, 27, 28, 29, 30, 31, 32, 33, 34, 35, 36, 37, 38, 39, 1, 2, 3, 4, 5, 6, 7, 8, 9, 10, 11, 12, 13, 14, 15, 16, 17, 18, 19, 20, 21, 40], [21, 22, 23, 24, 25, 26, 27, 28, 29, 30, 31, 32, 33, 34, 35, 36, 37, 38, 39, 1, 2, 3, 4, 5, 6, 7, 8, 9, 10, 11, 12, 13, 14, 15, 16, 17, 18, 19, 20, 40], [20, 21, 22, 23, 24, 25, 26, 27, 28, 29, 30, 31, 32, 33, 34, 35, 36, 37, 38, 39, 1, 2, 3, 4, 5, 6, 7, 8, 9, 10, 11, 12, 13, 14, 15, 16, 17, 18, 19, 40], [19, 20, 21, 22, 23, 24, 25, 26, 27, 28, 29, 30, 31, 32, 33, 34, 35, 36, 37, 38, 39, 1, 2, 3, 4, 5, 6, 7, 8, 9, 10, 11, 12, 13, 14, 15, 16, 17, 18, 40], [18, 19, 20, 21, 22, 23, 24, 25, 26, 27, 28, 29, 30, 31, 32, 33, 34, 35, 36, 37, 38, 39, 1, 2, 3, 4, 5, 6, 7, 8, 9, 10, 11, 12, 13, 14, 15, 16, 17, 40], [17, 18, 19, 20, 21, 22, 23, 24, 25, 26, 27, 28, 29, 30, 31, 32, 33, 34, 35, 36, 37, 38, 39, 1, 2, 3, 4, 5, 6, 7, 8, 9, 10, 11, 12, 13, 14, 15, 16, 40], [16, 17, 18, 19, 20, 21, 22, 23, 24, 25, 26, 27, 28, 29, 30, 31, 32, 33, 34, 35, 36, 37, 38, 39, 1, 2, 3, 4, 5, 6, 7, 8, 9, 10, 11, 12, 13, 14, 15, 40], [15, 16, 17, 18, 19, 20, 21, 22, 23, 24, 25, 26, 27, 28, 29, 30, 31, 32, 33, 34, 35, 36, 37, 38, 39, 1, 2, 3, 4, 5, 6, 7, 8, 9, 10, 11, 12, 13, 14, 40], [14, 15, 16, 17, 18, 19, 20, 21, 22, 23, 24, 25, 26, 27, 28, 29, 30, 31, 32, 33, 34, 35, 36, 37, 38, 39, 1, 2, 3, 4, 5, 6, 7, 8, 9, 10, 11, 12, 13, 40], [13, 14, 15, 16, 17, 18, 19, 20, 21, 22, 23, 24, 25, 26, 27, 28, 29, 30, 31, 32, 33, 34, 35, 36, 37, 38, 39, 1, 2, 3, 4, 5, 6, 7, 8, 9, 10, 11, 12, 40], [12, 13, 14, 15, 16, 17, 18, 19, 20, 21, 22, 23, 24, 25, 26, 27, 28, 29, 30, 31, 32, 33, 34, 35, 36, 37, 38, 39, 1, 2, 3, 4, 5, 6, 7, 8, 9, 10, 11, 40], [11, 12, 13, 14, 15, 16, 17, 18, 19, 20, 21, 22, 23, 24, 25, 26, 27, 28, 29, 30, 31, 32, 33, 34, 35, 36, 37, 38, 39, 1, 2, 3, 4, 5, 6, 7, 8, 9, 10, 40], [10, 11, 12, 13, 14, 15, 16, 17, 18, 19, 20, 21, 22, 23, 24, 25, 26, 27, 28, 29, 30, 31, 32, 33, 34, 35, 36, 37, 38, 39, 1, 2, 3, 4, 5, 6, 7, 8, 9, 40], [9, 10, 11, 12, 13, 14, 15, 16, 17, 18, 19, 20, 21, 22, 23, 24, 25, 26, 27, 28, 29, 30, 31, 32, 33, 34, 35, 36, 37, 38, 39, 1, 2, 3, 4, 5, 6, 7, 8, 40], [8, 9, 10, 11, 12, 13, 14, 15, 16, 17, 18, 19, 20, 21, 22, 23, 24, 25, 26, 27, 28, 29, 30, 31, 32, 33, 34, 35, 36, 37, 38, 39, 1, 2, 3, 4, 5, 6, 7, 40], [7, 8, 9, 10, 11, 12, 13, 14, 15, 16, 17, 18, 19, 20, 21, 22, 23, 24, 25, 26, 27, 28, 29, 30, 31, 32, 33, 34, 35, 36, 37, 38, 39, 1, 2, 3, 4, 5, 6, 40], [6, 7, 8, 9, 10, 11, 12, 13, 14, 15, 16, 17, 18, 19, 20, 21, 22, 23, 24, 25, 26, 27, 28, 29, 30, 31, 32, 33, 34, 35, 36, 37, 38, 39, 1, 2, 3, 4, 5, 40], [5, 6, 7, 8, 9, 10, 11, 12, 13, 14, 15, 16, 17, 18, 19, 20, 21, 22, 23, 24, 25, 26, 27, 28, 29, 30, 31, 32, 33, 34, 35, 36, 37, 38, 39, 1, 2, 3, 4, 40], [4, 5, 6, 7, 8, 9, 10, 11, 12, 13, 14, 15, 16, 17, 18, 19, 20, 21, 22, 23, 24, 25, 26, 27, 28, 29, 30, 31, 32, 33, 34, 35, 36, 37, 38, 39, 1, 2, 3, 40], [3, 4, 5, 6, 7, 8, 9, 10, 11, 12, 13, 14, 15, 16, 17, 18, 19, 20, 21, 22, 23, 24, 25, 26, 27, 28, 29, 30, 31, 32, 33, 34, 35, 36, 37, 38, 39, 1, 2, 40], [2, 3, 4, 5, 6, 7, 8, 9, 10, 11, 12, 13, 14, 15, 16, 17, 18, 19, 20, 21, 22, 23, 24, 25, 26, 27, 28, 29, 30, 31, 32, 33, 34, 35, 36, 37, 38, 39, 1, 40], [1, 2, 3, 4, 5, 6, 7, 8, 9, 10, 11, 12, 13, 14, 15, 16, 17, 18, 19, 20, 21, 22, 23, 24, 25, 26, 27, 28, 29, 30, 31, 32, 33, 34, 35, 36, 37, 38, 39, 40]]\n",
            "{(1, 41): (1, 1), (2, 42): (1, 1), (3, 43): (1, 1), (4, 44): (1, 1), (5, 45): (1, 1), (6, 46): (1, 1), (7, 47): (1, 1), (8, 48): (1, 1), (9, 49): (1, 1), (10, 50): (1, 1), (11, 51): (1, 1), (12, 52): (1, 1), (13, 53): (1, 1), (14, 54): (1, 1), (15, 55): (1, 1), (16, 56): (1, 1), (17, 57): (1, 1), (18, 58): (1, 1), (19, 59): (1, 1), (20, 60): (1, 1), (21, 61): (1, 1), (22, 62): (1, 1), (23, 63): (1, 1), (24, 64): (1, 1), (25, 65): (1, 1), (26, 66): (1, 1), (27, 67): (1, 1), (28, 68): (1, 1), (29, 69): (1, 1), (30, 70): (1, 1), (31, 71): (1, 1), (32, 72): (1, 1), (33, 73): (1, 1), (34, 74): (1, 1), (35, 75): (1, 1), (36, 76): (1, 1), (37, 77): (1, 1), (38, 78): (1, 1), (39, 79): (1, 1), (40, 80): (1, 1)}\n",
            "days= 1\n"
          ],
          "name": "stdout"
        }
      ]
    },
    {
      "cell_type": "markdown",
      "metadata": {
        "id": "YSk7bqmA-1iq"
      },
      "source": [
        "### 2) Run the Gale-Shapley Algorithm 100 times using random permutations as preference lists for n=4 and 40. Find the minimum, maximum and average number of iterations and plot the distribution of the number of iterations."
      ]
    },
    {
      "cell_type": "code",
      "metadata": {
        "id": "WoyIEkKP9OR7"
      },
      "source": [
        "def Gale_Shapley_modify(n):\n",
        "    step_count=[]\n",
        "    for t in range(100):\n",
        "        pr_man=[random.sample(list(range(1,n+1)),n) for i in range(n)]\n",
        "        pr_women=[random.sample(list(range(1,n+1)),n) for i in range(n)]\n",
        "        man_list = list(range(1,n+1))\n",
        "        women_list = list(range(n+1,n*2+1))\n",
        "        col=list(range(n+1,n*2+1))\n",
        "\n",
        "        ind=list(range(1,n+1))\n",
        "\n",
        "        women_df = pd.DataFrame({col[i]:pr_women[i] for i in range(n)},index=ind)\n",
        "    \n",
        "        man_df = pd.DataFrame(pr_man,columns=col,index=ind)\n",
        "\n",
        "        # dict to control which women each man can make proposals\n",
        "        women_available = {man:women_list for man in man_list}\n",
        "        # waiting list of men that were able to create pair on each iteration\n",
        "        waiting_list = []\n",
        "        # dict to store created pairs\n",
        "        proposals = {}\n",
        "        # variable to count number of iterations\n",
        "        count = 0\n",
        "        while len(waiting_list)<len(man_list):\n",
        "            # man makes proposals\n",
        "            for man in man_list:\n",
        "        \n",
        "                if man not in waiting_list:\n",
        "                    # each man make proposal to the top women from it's list\n",
        "                    women = women_available[man]\n",
        "                    best_choice = man_df.loc[man][man_df.loc[man].index.isin(women)].idxmin()\n",
        "                    \n",
        "                    proposals[(man, best_choice)]=(man_df.loc[man][best_choice],\n",
        "                                                        women_df.loc[man][best_choice])\n",
        "            # if women have more than one proposals \n",
        "            # she will choose the best option\n",
        "            overlays = Counter([key[1] for key in proposals.keys()])\n",
        "            \n",
        "            # cycle to choose the best options\n",
        "            for women in overlays.keys():\n",
        "                if overlays[women]>1:\n",
        "                    # pairs to drop from proposals\n",
        "                    pairs_to_drop = sorted({pair: proposals[pair] for pair in proposals.keys() if women in pair}.items(), key=lambda x: x[1][1])[1:]\n",
        "                    # if man was rejected by woman\n",
        "                    # there is no pint for him to make proposal \n",
        "                    # second time to the same woman\n",
        "                    for p_to_drop in pairs_to_drop:\n",
        "                        del proposals[p_to_drop[0]]\n",
        "                        _women = copy(women_available[p_to_drop[0][0]])\n",
        "                        _women.remove(p_to_drop[0][1])\n",
        "                        women_available[p_to_drop[0][0]] = _women\n",
        "            # man who successfully created pairs must be added to the waiting list \n",
        "            waiting_list = [man[0] for man in proposals.keys()]\n",
        "            # update counter\n",
        "            count+=1\n",
        "\n",
        "        step_count.append(count)\n",
        "        \n",
        "    plt.hist(step_count, bins=max(step_count)-min(step_count))\n",
        "    plt.xlabel('dias')\n",
        "    plt.ylabel('Frecuencia')\n",
        "    plt.title(\"Histograma n° de dias para obtener matching perfecto\")\n",
        "    plt.show()\n",
        "    print(\"Máximo número de dias: \",max(step_count))\n",
        "    print(\"Mínimo número de dias: \",min(step_count))\n",
        "    print(\"promedio número de dias: \",sum(step_count)/len(step_count))"
      ],
      "execution_count": null,
      "outputs": []
    },
    {
      "cell_type": "markdown",
      "metadata": {
        "id": "9UPtQi5I--iq"
      },
      "source": [
        "### - n=4"
      ]
    },
    {
      "cell_type": "code",
      "metadata": {
        "id": "8MuRZpFI74cW",
        "colab": {
          "base_uri": "https://localhost:8080/",
          "height": 348
        },
        "outputId": "02013560-2573-48ce-83ee-75e4cb024abb"
      },
      "source": [
        "Gale_Shapley_modify(4)"
      ],
      "execution_count": null,
      "outputs": [
        {
          "output_type": "display_data",
          "data": {
            "image/png": "[encoded data removed]",
            "text/plain": [
              "<Figure size 432x288 with 1 Axes>"
            ]
          },
          "metadata": {
            "tags": [],
            "needs_background": "light"
          }
        },
        {
          "output_type": "stream",
          "text": [
            "Máximo número de dias:  7\n",
            "Mínimo número de dias:  1\n",
            "promedio número de dias:  2.96\n"
          ],
          "name": "stdout"
        }
      ]
    },
    {
      "cell_type": "markdown",
      "metadata": {
        "id": "KmXPgjEj_EZb"
      },
      "source": [
        "### - n=40"
      ]
    },
    {
      "cell_type": "code",
      "metadata": {
        "id": "c84T_tFD77I_",
        "colab": {
          "base_uri": "https://localhost:8080/",
          "height": 348
        },
        "outputId": "67f51267-72cc-4cbd-ef3d-aa2b2267958a"
      },
      "source": [
        "Gale_Shapley_modify(40)"
      ],
      "execution_count": null,
      "outputs": [
        {
          "output_type": "display_data",
          "data": {
            "image/png": "[encoded data removed]",
            "text/plain": [
              "<Figure size 432x288 with 1 Axes>"
            ]
          },
          "metadata": {
            "tags": [],
            "needs_background": "light"
          }
        },
        {
          "output_type": "stream",
          "text": [
            "Máximo número de dias:  175\n",
            "Mínimo número de dias:  14\n",
            "promedio número de dias:  51.87\n"
          ],
          "name": "stdout"
        }
      ]
    }
  ]
}